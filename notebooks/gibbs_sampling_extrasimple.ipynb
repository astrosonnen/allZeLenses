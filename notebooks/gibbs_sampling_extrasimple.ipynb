{
 "cells": [
  {
   "cell_type": "markdown",
   "metadata": {},
   "source": [
    "# The Simplest Possible Hierarchical Inference Problem, Gibbs Sampled\n",
    "\n",
    "There's a set of $N$ objects described by one variable x, generated from a Gaussian distribution. For each object we have a measurement of x with some uncertainty. We wish to recover the hyperparameters of the distribution that generated the individual values of x.\n",
    "\n",
    "[Text](http://google.com)\n"
   ]
  },
  {
   "cell_type": "code",
   "execution_count": 4,
   "metadata": {
    "collapsed": true
   },
   "outputs": [],
   "source": [
    "import numpy as np\n",
    "import pymc\n",
    "\n",
    "# define model hyperparameters\n",
    "mu = 0.\n",
    "sig = 1.\n",
    "\n",
    "# specify the uncertainty on the individual measurements\n",
    "err = 2.0\n",
    "\n",
    "# pick the number of objects\n",
    "nobj = 100\n",
    "\n",
    "# generates values of x\n",
    "x_true = np.random.normal(mu, sig, nobj)\n",
    "\n",
    "# adds observational errors\n",
    "x_obs = x_true + np.random.normal(0., err, nobj)"
   ]
  },
  {
   "cell_type": "code",
   "execution_count": 5,
   "metadata": {
    "collapsed": false
   },
   "outputs": [
    {
     "name": "stdout",
     "output_type": "stream",
     "text": [
      " [-----------------100%-----------------] 11000 of 11000 complete in 91.8 sec"
     ]
    }
   ],
   "source": [
    "# infer mu, sig with an MCMC chain with Gibbs sampling.\n",
    "\n",
    "mu_par = pymc.Uniform('mu', lower=-3., upper=3., value=mu)\n",
    "sig_par = pymc.Uniform('sig', lower=0., upper=10., value=sig)\n",
    "\n",
    "x_pars = [pymc.Normal('x_%d'%i, mu=mu_par, tau=1./sig_par**2, value=x_obs[i]) for i in range(nobj)]\n",
    "\n",
    "hyperpars = [mu_par, sig_par]\n",
    "\n",
    "# @pymc.deterministic()\n",
    "# def likelihood(x=x_pars):\n",
    "#    return (-0.5*(x - x_obs)**2/err**2 - np.log(err)).sum()\n",
    "\n",
    "ps = [pymc.Normal('x_%d_obs'%i, mu=x_pars[i], tau=1./err**2, value=x_obs[i], observed=True) for i in range(nobj)]\n",
    "\n",
    "#@pymc.stochastic()\n",
    "#def logp(observed=True, value=0., h=hyperpars, x=x_pars):\n",
    "#    return likelihood\n",
    "\n",
    "M = pymc.MCMC(hyperpars + [x_pars])\n",
    "#M.use_step_method(pymc.AdaptiveMetropolis, hyperpars)\n",
    "M.sample(11000, 1000)"
   ]
  },
  {
   "cell_type": "code",
   "execution_count": 6,
   "metadata": {
    "collapsed": false
   },
   "outputs": [],
   "source": [
    "# plots the chain and the posterior in mu, sig\n",
    "\n",
    "import pylab\n",
    "from scipy import ndimage\n",
    "\n",
    "pylab.subplot(2, 2, 1)\n",
    "pylab.plot(M.trace('mu')[:])\n",
    "\n",
    "pylab.subplot(2, 2, 3)\n",
    "pylab.plot(M.trace('sig')[:])\n",
    "\n",
    "pylab.subplot(2, 2, 2)\n",
    "for i in range(10):\n",
    "    pylab.plot(M.trace('x_%d'%i)[:], color='gray')\n",
    "\n",
    "pylab.subplot(2, 2, 4)\n",
    "H, xbins, ybins = pylab.histogram2d(M.trace('mu')[:], M.trace('sig')[:], bins=100)\n",
    "H = ndimage.gaussian_filter(H, 2)\n",
    "sortH = np.sort(H.flatten())\n",
    "cumH = sortH.cumsum()\n",
    "lvl68 = sortH[cumH>cumH.max()*0.32].min()\n",
    "lvl95 = sortH[cumH>cumH.max()*0.05].min()\n",
    "lvl99 = sortH[cumH>cumH.max()*0.003].min()\n",
    "contours = pylab.contour(H.T, [lvl68, lvl95, lvl99], colors='k', extent=(xbins[0], xbins[-1], ybins[0], ybins[-1]))\n",
    "pylab.axvline(mu, linestyle='--', color='k')\n",
    "pylab.axhline(sig, linestyle='--', color='k')\n",
    "pylab.scatter(mu, sig)\n",
    "pylab.show()"
   ]
  },
  {
   "cell_type": "code",
   "execution_count": null,
   "metadata": {
    "collapsed": true
   },
   "outputs": [],
   "source": []
  }
 ],
 "metadata": {
  "kernelspec": {
   "display_name": "Python 2",
   "language": "python",
   "name": "python2"
  },
  "language_info": {
   "codemirror_mode": {
    "name": "ipython",
    "version": 2
   },
   "file_extension": ".py",
   "mimetype": "text/x-python",
   "name": "python",
   "nbconvert_exporter": "python",
   "pygments_lexer": "ipython2",
   "version": "2.7.11"
  }
 },
 "nbformat": 4,
 "nbformat_minor": 0
}
