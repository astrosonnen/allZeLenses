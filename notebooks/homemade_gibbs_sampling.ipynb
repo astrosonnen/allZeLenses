{
 "cells": [
  {
   "cell_type": "markdown",
   "metadata": {},
   "source": [
    "# Gibbs Sampling from scratch\n",
    "\n",
    "I'm not sure if my pymc-based code does what I think it does, so I'm going to write a basic Gibbs sampling code myself."
   ]
  },
  {
   "cell_type": "markdown",
   "metadata": {},
   "source": [
    "I'm generating $N$ samples of $x$ from a Gaussian distribution, with measurement uncertainty $\\sigma_x$. I would like to infer mean and dispersion of this Gaussian, with Gibbs Sampling.\n",
    "I define the hyperparameters $\\mu$ and $\\sigma$ as the mean and dispersion of the distribution. Then I have $N$ parameters $\\left\\{x_i\\right\\}$, describing the individual values of the sample of $x$.\n",
    "During Gibbs sampling we need to perform two types of operation:\n",
    "1- Calculating P(hp|hp, x, d)\n",
    "2- Calculating P(x_i|hp, x, d)"
   ]
  },
  {
   "cell_type": "code",
   "execution_count": 3,
   "metadata": {
    "collapsed": true
   },
   "outputs": [],
   "source": [
    "import numpy as np\n",
    "\n",
    "# define model hyperparameters\n",
    "mu = 0.\n",
    "sig = 1.\n",
    "\n",
    "# specify the uncertainty on the individual measurements\n",
    "err = 0.3\n",
    "\n",
    "# pick the number of objects\n",
    "nobj = 100\n",
    "\n",
    "# generates values of x\n",
    "x_sample = np.random.normal(mu, sig, nobj)\n",
    "\n",
    "# adds observational errors\n",
    "x_obs = x_sample + np.random.normal(0., err, nobj)"
   ]
  },
  {
   "cell_type": "code",
   "execution_count": null,
   "metadata": {
    "collapsed": true
   },
   "outputs": [],
   "source": [
    "# defines prior of individual parameter given the hyper-parameters\n",
    "\n",
    "def prior(hp, x):\n",
    "    return -0.5*(hp[0] - x)**2/hp[1]**2 - np.log(hp[1])\n",
    "\n",
    "# defines likelihood of a data point given the parameter value\n",
    "\n",
    "def loglike(x, x_obs, err):\n",
    "    return -0.5*(x - x_obs)**2/err**2 - np.log(err)\n",
    "\n",
    "nchain = 10000\n",
    "\n",
    "hp_chain = []\n",
    "indiv_chain = []\n",
    "\n",
    "hp_step = sig\n",
    "\n",
    "hp0 = np.array(mu, sig)\n",
    "ip0 = x_obs\n",
    "lp_arr = prior(hp0, ip0) + loglike(ip0, x_obs, err)\n",
    "lp0 = lp_arr.sum()\n",
    "\n",
    "for i in range(nchain):\n",
    "    # loops over the individual values of x\n",
    "    S = (1/hp0[1]**2 + 1/err**2)**(-0.5)\n",
    "    \n",
    "    for j in range(nobj):\n",
    "        mu_here = S**2*(hp0[0]/hp0[1]**2 + x_obs[i]/err**2)\n",
    "        ip0[j] = np.random.normal(mu_here, S, 1)\n",
    "        \n",
    "    # the conditional probability of mu, given the individual parameters x is the product of nobj Gaussians (?)\n",
    "    \n",
    "    sig_here = err/(1.*nobj)**0.5\n",
    "    mu_here = sig_here**2/err**2*(ip0.sum())\n",
    "    \n",
    "    h0[0] = np.random.normal(mu_here, sig_here, 1)\n",
    "    h0[1] = np.random.normal()\n",
    "    \n",
    "        \n",
    "    \n"
   ]
  }
 ],
 "metadata": {
  "kernelspec": {
   "display_name": "Python 2",
   "language": "python",
   "name": "python2"
  },
  "language_info": {
   "codemirror_mode": {
    "name": "ipython",
    "version": 2
   },
   "file_extension": ".py",
   "mimetype": "text/x-python",
   "name": "python",
   "nbconvert_exporter": "python",
   "pygments_lexer": "ipython2",
   "version": "2.7.11"
  }
 },
 "nbformat": 4,
 "nbformat_minor": 0
}
